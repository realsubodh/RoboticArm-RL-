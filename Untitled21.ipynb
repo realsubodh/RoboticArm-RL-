{
  "nbformat": 4,
  "nbformat_minor": 0,
  "metadata": {
    "colab": {
      "provenance": []
    },
    "kernelspec": {
      "name": "python3",
      "display_name": "Python 3"
    },
    "language_info": {
      "name": "python"
    }
  },
  "cells": [
    {
      "cell_type": "code",
      "execution_count": null,
      "metadata": {
        "colab": {
          "base_uri": "https://localhost:8080/"
        },
        "id": "wtgmLpSqh-Jf",
        "outputId": "2265abe4-9e75-4273-dcd3-b511abb93519"
      },
      "outputs": [
        {
          "output_type": "stream",
          "name": "stderr",
          "text": [
            "/usr/local/lib/python3.10/dist-packages/keras/src/layers/core/dense.py:87: UserWarning: Do not pass an `input_shape`/`input_dim` argument to a layer. When using Sequential models, prefer using an `Input(shape)` object as the first layer in the model instead.\n",
            "  super().__init__(activity_regularizer=activity_regularizer, **kwargs)\n"
          ]
        },
        {
          "output_type": "stream",
          "name": "stdout",
          "text": [
            "Episode 1/10, Total Reward: 0\n",
            "Episode 2/10, Total Reward: -4\n",
            "Episode 3/10, Total Reward: -4\n",
            "Episode 4/10, Total Reward: -2\n",
            "Episode 5/10, Total Reward: 12\n",
            "Episode 6/10, Total Reward: -2\n",
            "Episode 7/10, Total Reward: -2\n",
            "Episode 8/10, Total Reward: 2\n",
            "Episode 9/10, Total Reward: -3\n",
            "Episode 10/10, Total Reward: -2\n"
          ]
        }
      ],
      "source": [
        "import numpy as np\n",
        "import tensorflow as tf\n",
        "from collections import deque\n",
        "import random\n",
        "\n",
        "# Simplified DQNAgent\n",
        "class DQNAgent:\n",
        "    def __init__(self, state_size, action_size):\n",
        "        self.state_size = state_size\n",
        "        self.action_size = action_size\n",
        "        self.memory = deque(maxlen=1000)\n",
        "        self.gamma = 0.9  # Discount rate\n",
        "        self.epsilon = 1.0  # Exploration rate\n",
        "        self.epsilon_min = 0.1\n",
        "        self.epsilon_decay = 0.95\n",
        "        self.learning_rate = 0.001\n",
        "        self.model = self._build_model()\n",
        "\n",
        "    def _build_model(self):\n",
        "        model = tf.keras.Sequential([\n",
        "            tf.keras.layers.Dense(16, input_shape=(self.state_size,), activation='relu'),\n",
        "            tf.keras.layers.Dense(16, activation='relu'),\n",
        "            tf.keras.layers.Dense(self.action_size, activation='linear')\n",
        "        ])\n",
        "        model.compile(loss='mse', optimizer=tf.keras.optimizers.Adam(learning_rate=self.learning_rate))\n",
        "        return model\n",
        "\n",
        "    def remember(self, state, action, reward, next_state, done):\n",
        "        self.memory.append((state, action, reward, next_state, done))\n",
        "\n",
        "    def act(self, state):\n",
        "        if np.random.rand() <= self.epsilon:\n",
        "            return random.randrange(self.action_size)\n",
        "        q_values = self.model.predict(np.array([state]), verbose=0)\n",
        "        return np.argmax(q_values[0])\n",
        "\n",
        "    def replay(self, batch_size):\n",
        "        minibatch = random.sample(self.memory, batch_size)\n",
        "        for state, action, reward, next_state, done in minibatch:\n",
        "            target = reward if done else reward + self.gamma * np.amax(self.model.predict(np.array([next_state]), verbose=0)[0])\n",
        "            target_f = self.model.predict(np.array([state]), verbose=0)\n",
        "            target_f[0][action] = target\n",
        "            self.model.fit(np.array([state]), target_f, epochs=1, verbose=0)\n",
        "        if self.epsilon > self.epsilon_min:\n",
        "            self.epsilon *= self.epsilon_decay\n",
        "\n",
        "# Simplified environment simulation\n",
        "def initialize_simulation():\n",
        "    return np.zeros(4)  # Simplified state with fewer dimensions\n",
        "\n",
        "def step_simulation(action):\n",
        "    next_state = np.random.rand(4)  # Random next state for simplicity\n",
        "    reward = 1 if action == np.random.randint(0, 2) else -1\n",
        "    done = np.random.rand() > 0.95  # Randomly end the episode\n",
        "    return next_state, reward, done, {}\n",
        "\n",
        "# Main training loop\n",
        "state_size = 4\n",
        "action_size = 2  # Fewer actions for faster training\n",
        "agent = DQNAgent(state_size, action_size)\n",
        "\n",
        "episodes = 10  # Reduce number of episodes\n",
        "max_steps = 20  # Shorten the episode length\n",
        "batch_size = 16  # Smaller batch size for quicker updates\n",
        "\n",
        "for e in range(episodes):\n",
        "    state = initialize_simulation()\n",
        "    done = False\n",
        "    total_reward = 0\n",
        "\n",
        "    for step in range(max_steps):\n",
        "        action = agent.act(state)\n",
        "        next_state, reward, done, _ = step_simulation(action)\n",
        "        agent.remember(state, action, reward, next_state, done)\n",
        "        state = next_state\n",
        "        total_reward += reward\n",
        "        if done:\n",
        "            break\n",
        "\n",
        "        # Train the agent every step for quicker learning\n",
        "        if len(agent.memory) > batch_size:\n",
        "            agent.replay(batch_size)\n",
        "\n",
        "    print(f\"Episode {e+1}/{episodes}, Total Reward: {total_reward}\")\n"
      ]
    }
  ]
}